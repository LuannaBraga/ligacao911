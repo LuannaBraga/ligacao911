{
 "cells": [
  {
   "cell_type": "code",
   "execution_count": 1,
   "id": "a415843f",
   "metadata": {},
   "outputs": [],
   "source": [
    "# Importar numpy e pandas"
   ]
  },
  {
   "cell_type": "code",
   "execution_count": 2,
   "id": "69a8c361",
   "metadata": {},
   "outputs": [],
   "source": [
    "import numpy as np\n",
    "import pandas as pd"
   ]
  },
  {
   "cell_type": "code",
   "execution_count": 3,
   "id": "cb8b6db7",
   "metadata": {},
   "outputs": [],
   "source": [
    "# Importe as bibliotecas de visualização e configure %metplotlib inline"
   ]
  },
  {
   "cell_type": "code",
   "execution_count": 31,
   "id": "50cbcc03",
   "metadata": {},
   "outputs": [],
   "source": [
    "import matplotlib.pyplot as plt\n",
    "import seaborn as sns\n",
    "%matplotlib inline"
   ]
  },
  {
   "cell_type": "code",
   "execution_count": 5,
   "id": "7cf58792",
   "metadata": {},
   "outputs": [],
   "source": [
    "#Leia o arquivo csv como um dataframe chamado df"
   ]
  },
  {
   "cell_type": "code",
   "execution_count": 9,
   "id": "ec5d8e6a",
   "metadata": {},
   "outputs": [],
   "source": [
    "df = pd.read_csv('C:/Users/Luanna/Desktop/Desafio/911.csv')"
   ]
  },
  {
   "cell_type": "code",
   "execution_count": 10,
   "id": "d0e92ccf",
   "metadata": {},
   "outputs": [],
   "source": [
    "# Verifique a info() do df"
   ]
  },
  {
   "cell_type": "code",
   "execution_count": 11,
   "id": "d10283de",
   "metadata": {},
   "outputs": [
    {
     "name": "stdout",
     "output_type": "stream",
     "text": [
      "<class 'pandas.core.frame.DataFrame'>\n",
      "RangeIndex: 423909 entries, 0 to 423908\n",
      "Data columns (total 9 columns):\n",
      " #   Column     Non-Null Count   Dtype  \n",
      "---  ------     --------------   -----  \n",
      " 0   lat        423909 non-null  float64\n",
      " 1   lng        423909 non-null  float64\n",
      " 2   desc       423909 non-null  object \n",
      " 3   zip        371780 non-null  float64\n",
      " 4   title      423909 non-null  object \n",
      " 5   timeStamp  423909 non-null  object \n",
      " 6   twp        423750 non-null  object \n",
      " 7   addr       423909 non-null  object \n",
      " 8   e          423909 non-null  int64  \n",
      "dtypes: float64(3), int64(1), object(5)\n",
      "memory usage: 29.1+ MB\n"
     ]
    }
   ],
   "source": [
    "df.info()"
   ]
  },
  {
   "cell_type": "code",
   "execution_count": 12,
   "id": "b0668d47",
   "metadata": {},
   "outputs": [],
   "source": [
    "# Verifique o cabeçalho do df"
   ]
  },
  {
   "cell_type": "code",
   "execution_count": 15,
   "id": "303ef784",
   "metadata": {},
   "outputs": [
    {
     "data": {
      "text/html": [
       "<div>\n",
       "<style scoped>\n",
       "    .dataframe tbody tr th:only-of-type {\n",
       "        vertical-align: middle;\n",
       "    }\n",
       "\n",
       "    .dataframe tbody tr th {\n",
       "        vertical-align: top;\n",
       "    }\n",
       "\n",
       "    .dataframe thead th {\n",
       "        text-align: right;\n",
       "    }\n",
       "</style>\n",
       "<table border=\"1\" class=\"dataframe\">\n",
       "  <thead>\n",
       "    <tr style=\"text-align: right;\">\n",
       "      <th></th>\n",
       "      <th>lat</th>\n",
       "      <th>lng</th>\n",
       "      <th>desc</th>\n",
       "      <th>zip</th>\n",
       "      <th>title</th>\n",
       "      <th>timeStamp</th>\n",
       "      <th>twp</th>\n",
       "      <th>addr</th>\n",
       "      <th>e</th>\n",
       "    </tr>\n",
       "  </thead>\n",
       "  <tbody>\n",
       "    <tr>\n",
       "      <th>0</th>\n",
       "      <td>40.297876</td>\n",
       "      <td>-75.581294</td>\n",
       "      <td>REINDEER CT &amp; DEAD END;  NEW HANOVER; Station ...</td>\n",
       "      <td>19525.0</td>\n",
       "      <td>EMS: BACK PAINS/INJURY</td>\n",
       "      <td>2015-12-10 17:10:52</td>\n",
       "      <td>NEW HANOVER</td>\n",
       "      <td>REINDEER CT &amp; DEAD END</td>\n",
       "      <td>1</td>\n",
       "    </tr>\n",
       "    <tr>\n",
       "      <th>1</th>\n",
       "      <td>40.258061</td>\n",
       "      <td>-75.264680</td>\n",
       "      <td>BRIAR PATH &amp; WHITEMARSH LN;  HATFIELD TOWNSHIP...</td>\n",
       "      <td>19446.0</td>\n",
       "      <td>EMS: DIABETIC EMERGENCY</td>\n",
       "      <td>2015-12-10 17:29:21</td>\n",
       "      <td>HATFIELD TOWNSHIP</td>\n",
       "      <td>BRIAR PATH &amp; WHITEMARSH LN</td>\n",
       "      <td>1</td>\n",
       "    </tr>\n",
       "    <tr>\n",
       "      <th>2</th>\n",
       "      <td>40.121182</td>\n",
       "      <td>-75.351975</td>\n",
       "      <td>HAWS AVE; NORRISTOWN; 2015-12-10 @ 14:39:21-St...</td>\n",
       "      <td>19401.0</td>\n",
       "      <td>Fire: GAS-ODOR/LEAK</td>\n",
       "      <td>2015-12-10 14:39:21</td>\n",
       "      <td>NORRISTOWN</td>\n",
       "      <td>HAWS AVE</td>\n",
       "      <td>1</td>\n",
       "    </tr>\n",
       "    <tr>\n",
       "      <th>3</th>\n",
       "      <td>40.116153</td>\n",
       "      <td>-75.343513</td>\n",
       "      <td>AIRY ST &amp; SWEDE ST;  NORRISTOWN; Station 308A;...</td>\n",
       "      <td>19401.0</td>\n",
       "      <td>EMS: CARDIAC EMERGENCY</td>\n",
       "      <td>2015-12-10 16:47:36</td>\n",
       "      <td>NORRISTOWN</td>\n",
       "      <td>AIRY ST &amp; SWEDE ST</td>\n",
       "      <td>1</td>\n",
       "    </tr>\n",
       "    <tr>\n",
       "      <th>4</th>\n",
       "      <td>40.251492</td>\n",
       "      <td>-75.603350</td>\n",
       "      <td>CHERRYWOOD CT &amp; DEAD END;  LOWER POTTSGROVE; S...</td>\n",
       "      <td>NaN</td>\n",
       "      <td>EMS: DIZZINESS</td>\n",
       "      <td>2015-12-10 16:56:52</td>\n",
       "      <td>LOWER POTTSGROVE</td>\n",
       "      <td>CHERRYWOOD CT &amp; DEAD END</td>\n",
       "      <td>1</td>\n",
       "    </tr>\n",
       "  </tbody>\n",
       "</table>\n",
       "</div>"
      ],
      "text/plain": [
       "         lat        lng                                               desc  \\\n",
       "0  40.297876 -75.581294  REINDEER CT & DEAD END;  NEW HANOVER; Station ...   \n",
       "1  40.258061 -75.264680  BRIAR PATH & WHITEMARSH LN;  HATFIELD TOWNSHIP...   \n",
       "2  40.121182 -75.351975  HAWS AVE; NORRISTOWN; 2015-12-10 @ 14:39:21-St...   \n",
       "3  40.116153 -75.343513  AIRY ST & SWEDE ST;  NORRISTOWN; Station 308A;...   \n",
       "4  40.251492 -75.603350  CHERRYWOOD CT & DEAD END;  LOWER POTTSGROVE; S...   \n",
       "\n",
       "       zip                    title            timeStamp                twp  \\\n",
       "0  19525.0   EMS: BACK PAINS/INJURY  2015-12-10 17:10:52        NEW HANOVER   \n",
       "1  19446.0  EMS: DIABETIC EMERGENCY  2015-12-10 17:29:21  HATFIELD TOWNSHIP   \n",
       "2  19401.0      Fire: GAS-ODOR/LEAK  2015-12-10 14:39:21         NORRISTOWN   \n",
       "3  19401.0   EMS: CARDIAC EMERGENCY  2015-12-10 16:47:36         NORRISTOWN   \n",
       "4      NaN           EMS: DIZZINESS  2015-12-10 16:56:52   LOWER POTTSGROVE   \n",
       "\n",
       "                         addr  e  \n",
       "0      REINDEER CT & DEAD END  1  \n",
       "1  BRIAR PATH & WHITEMARSH LN  1  \n",
       "2                    HAWS AVE  1  \n",
       "3          AIRY ST & SWEDE ST  1  \n",
       "4    CHERRYWOOD CT & DEAD END  1  "
      ]
     },
     "execution_count": 15,
     "metadata": {},
     "output_type": "execute_result"
    }
   ],
   "source": [
    "df.head(5)"
   ]
  },
  {
   "cell_type": "code",
   "execution_count": 14,
   "id": "986418f9",
   "metadata": {},
   "outputs": [],
   "source": [
    "# Quais são os top 5 CEP nas chamadas 911?"
   ]
  },
  {
   "cell_type": "code",
   "execution_count": 16,
   "id": "859dfaa2",
   "metadata": {},
   "outputs": [
    {
     "data": {
      "text/plain": [
       "19401.0    28656\n",
       "19464.0    27948\n",
       "19403.0    21631\n",
       "19446.0    20496\n",
       "19406.0    14097\n",
       "Name: zip, dtype: int64"
      ]
     },
     "execution_count": 16,
     "metadata": {},
     "output_type": "execute_result"
    }
   ],
   "source": [
    "df['zip'].value_counts().head(5)"
   ]
  },
  {
   "cell_type": "code",
   "execution_count": 17,
   "id": "a4fb2fd0",
   "metadata": {},
   "outputs": [],
   "source": [
    "# Quais são os 5 principais municípios das chamadas 911?"
   ]
  },
  {
   "cell_type": "code",
   "execution_count": 18,
   "id": "e9aaf21a",
   "metadata": {},
   "outputs": [
    {
     "data": {
      "text/plain": [
       "LOWER MERION    36441\n",
       "ABINGTON        25835\n",
       "NORRISTOWN      23883\n",
       "UPPER MERION    22694\n",
       "CHELTENHAM      19629\n",
       "Name: twp, dtype: int64"
      ]
     },
     "execution_count": 18,
     "metadata": {},
     "output_type": "execute_result"
    }
   ],
   "source": [
    "df['twp'].value_counts().head(5)"
   ]
  },
  {
   "cell_type": "code",
   "execution_count": 19,
   "id": "e9cc69c7",
   "metadata": {},
   "outputs": [],
   "source": [
    "#Dê uma olhada na coluna 'title'. Quantos códigos de títulos exclusivos existem?"
   ]
  },
  {
   "cell_type": "code",
   "execution_count": 22,
   "id": "3d6bdf22",
   "metadata": {},
   "outputs": [
    {
     "data": {
      "text/plain": [
       "141"
      ]
     },
     "execution_count": 22,
     "metadata": {},
     "output_type": "execute_result"
    }
   ],
   "source": [
    "df['title'].nunique()"
   ]
  },
  {
   "cell_type": "code",
   "execution_count": 23,
   "id": "c8e8564b",
   "metadata": {},
   "outputs": [],
   "source": [
    "# Na coluna 'title' \"existem Razões/Departamentos\" especificados antes do código do título. Estes são \"EMS\", 'Fire', e 'Trafic'.\n",
    "#Use.aply() com uma expressão lambda personalizada para criar uma nova coluna chamada \"Razão\" que contém o valor de string.\n",
    "\n",
    "#Por exemplom se o valor da coluna do título dor EMS: BLACK PAINS/ BLESSOR, o valor da coluna seria EMS."
   ]
  },
  {
   "cell_type": "code",
   "execution_count": 24,
   "id": "11a52016",
   "metadata": {},
   "outputs": [],
   "source": [
    "df['Reason'] = df['title'].apply(lambda title: title.split(':')[0])"
   ]
  },
  {
   "cell_type": "code",
   "execution_count": 25,
   "id": "0efd844b",
   "metadata": {},
   "outputs": [
    {
     "data": {
      "text/plain": [
       "0             EMS\n",
       "1             EMS\n",
       "2            Fire\n",
       "3             EMS\n",
       "4             EMS\n",
       "           ...   \n",
       "423904    Traffic\n",
       "423905    Traffic\n",
       "423906    Traffic\n",
       "423907    Traffic\n",
       "423908    Traffic\n",
       "Name: Reason, Length: 423909, dtype: object"
      ]
     },
     "execution_count": 25,
     "metadata": {},
     "output_type": "execute_result"
    }
   ],
   "source": [
    "df['Reason']"
   ]
  },
  {
   "cell_type": "code",
   "execution_count": 26,
   "id": "edfd6969",
   "metadata": {},
   "outputs": [],
   "source": [
    "#Qual é o motivo mais comum para uma chamada 911 com base nessa nova coluna?"
   ]
  },
  {
   "cell_type": "code",
   "execution_count": 27,
   "id": "ef21f52e",
   "metadata": {},
   "outputs": [
    {
     "data": {
      "text/plain": [
       "EMS        208676\n",
       "Traffic    151458\n",
       "Fire        63775\n",
       "Name: Reason, dtype: int64"
      ]
     },
     "execution_count": 27,
     "metadata": {},
     "output_type": "execute_result"
    }
   ],
   "source": [
    "df['Reason'].value_counts()"
   ]
  },
  {
   "cell_type": "code",
   "execution_count": 28,
   "id": "eca52487",
   "metadata": {},
   "outputs": [],
   "source": [
    "#Agora use o Seaborn para criar um countplot de chamadas 911 baseadas nessa nova coluna"
   ]
  },
  {
   "cell_type": "code",
   "execution_count": 32,
   "id": "73480880",
   "metadata": {},
   "outputs": [
    {
     "data": {
      "text/plain": [
       "<AxesSubplot:xlabel='Reason', ylabel='count'>"
      ]
     },
     "execution_count": 32,
     "metadata": {},
     "output_type": "execute_result"
    },
    {
     "data": {
      "image/png": "[encoded data removed]",
      "text/plain": [
       "<Figure size 432x288 with 1 Axes>"
      ]
     },
     "metadata": {
      "needs_background": "light"
     },
     "output_type": "display_data"
    }
   ],
   "source": [
    "sns.countplot(x='Reason', data=df)"
   ]
  },
  {
   "cell_type": "code",
   "execution_count": 33,
   "id": "24123412",
   "metadata": {},
   "outputs": [],
   "source": [
    "# Agora vamos começar a focar em iformaçções de tempo. Qual é o tipo de dados dos objetos na coluna timeStamp?"
   ]
  },
  {
   "cell_type": "code",
   "execution_count": 34,
   "id": "7b003b09",
   "metadata": {},
   "outputs": [
    {
     "data": {
      "text/plain": [
       "str"
      ]
     },
     "execution_count": 34,
     "metadata": {},
     "output_type": "execute_result"
    }
   ],
   "source": [
    "type(df['timeStamp'].iloc[1])"
   ]
  },
  {
   "cell_type": "code",
   "execution_count": 35,
   "id": "c38af2fc",
   "metadata": {},
   "outputs": [],
   "source": [
    "# Você deveria ter notado que esses timestamps ainda são strings. Use pd.to_datatime para converter a coluna de string\n",
    "# em objetos DateTime."
   ]
  },
  {
   "cell_type": "code",
   "execution_count": 36,
   "id": "995bdb92",
   "metadata": {},
   "outputs": [],
   "source": [
    "df['timeStamp'] = pd.to_datetime(df['timeStamp'])"
   ]
  },
  {
   "cell_type": "code",
   "execution_count": 37,
   "id": "f6d17d66",
   "metadata": {},
   "outputs": [
    {
     "data": {
      "text/plain": [
       "Timestamp('2015-12-10 17:10:52')"
      ]
     },
     "execution_count": 37,
     "metadata": {},
     "output_type": "execute_result"
    }
   ],
   "source": [
    "df['timeStamp'].iloc[0]"
   ]
  },
  {
   "cell_type": "code",
   "execution_count": 40,
   "id": "cba5aa5e",
   "metadata": {},
   "outputs": [],
   "source": [
    "#Você pode usar o método de consuta de funcões do Jupter(tab) para explorar os vários atributos que você pode chamar.\n",
    "#Agora que a coluna timestamp é realmente objetos DateTime, use .apply() para criar 3 novas colunas chamadas Hour,Month,e \n",
    "#Day of Week. Você criará essas colunas com base na coluna timeStamp, consulte as soluções se você ficar preso nesta etapa."
   ]
  },
  {
   "cell_type": "code",
   "execution_count": 41,
   "id": "e5cdeeff",
   "metadata": {},
   "outputs": [],
   "source": [
    "df['Hour'] = df['timeStamp'].apply(lambda x: x.hour)\n",
    "df['Month'] = df['timeStamp'].apply(lambda x: x.month)\n",
    "df['Day of Week'] = df['timeStamp'].apply(lambda x: x.dayofweek)"
   ]
  },
  {
   "cell_type": "code",
   "execution_count": 45,
   "id": "cfbfa1c3",
   "metadata": {},
   "outputs": [
    {
     "data": {
      "text/plain": [
       "4    65751\n",
       "2    63423\n",
       "3    63159\n",
       "1    63041\n",
       "0    61318\n",
       "5    57093\n",
       "6    50124\n",
       "Name: Day of Week, dtype: int64"
      ]
     },
     "execution_count": 45,
     "metadata": {},
     "output_type": "execute_result"
    }
   ],
   "source": [
    "df['Day of Week'].value_counts()"
   ]
  },
  {
   "cell_type": "code",
   "execution_count": 44,
   "id": "801e6bc4",
   "metadata": {},
   "outputs": [],
   "source": [
    "#observe como o dia da semana é um número inteiro de 0-6.Use o .map() com este dicionário para mapear os nomes das \n",
    "#sequencias reais para o dia da semana:"
   ]
  },
  {
   "cell_type": "code",
   "execution_count": 46,
   "id": "5413e973",
   "metadata": {},
   "outputs": [],
   "source": [
    "dmp = {0:'mon', 1:'Tue', 2:'Wed', 3:'thu', 4:'Fri', 5:'Sat', 6:'Sun'}"
   ]
  },
  {
   "cell_type": "code",
   "execution_count": 48,
   "id": "63312c16",
   "metadata": {},
   "outputs": [],
   "source": [
    "df['Day of Week'] = df['Day of Week'].map(dmp)"
   ]
  },
  {
   "cell_type": "code",
   "execution_count": 49,
   "id": "fd3440cf",
   "metadata": {},
   "outputs": [
    {
     "data": {
      "text/plain": [
       "0         thu\n",
       "1         thu\n",
       "2         thu\n",
       "3         thu\n",
       "4         thu\n",
       "         ... \n",
       "423904    Fri\n",
       "423905    Fri\n",
       "423906    Fri\n",
       "423907    Fri\n",
       "423908    Fri\n",
       "Name: Day of Week, Length: 423909, dtype: object"
      ]
     },
     "execution_count": 49,
     "metadata": {},
     "output_type": "execute_result"
    }
   ],
   "source": [
    "df['Day of Week']"
   ]
  },
  {
   "cell_type": "code",
   "execution_count": 50,
   "id": "06f274cb",
   "metadata": {},
   "outputs": [],
   "source": [
    "#Agora use Seaborn para riar um countplot da coluna 'Day of Week' com a tonalidade baseada na coluna Reason"
   ]
  },
  {
   "cell_type": "code",
   "execution_count": 53,
   "id": "157cf098",
   "metadata": {},
   "outputs": [
    {
     "data": {
      "text/plain": [
       "<matplotlib.legend.Legend at 0x18c08499790>"
      ]
     },
     "execution_count": 53,
     "metadata": {},
     "output_type": "execute_result"
    },
    {
     "data": {
      "image/png": "[encoded data removed]",
      "text/plain": [
       "<Figure size 432x288 with 1 Axes>"
      ]
     },
     "metadata": {
      "needs_background": "light"
     },
     "output_type": "display_data"
    }
   ],
   "source": [
    "sns.countplot(x='Day of Week', data=df, hue='Reason', palette='viridis')\n",
    "#código para ajustar as informações de fora do gráfico\n",
    "plt.legend(bbox_to_anchor=(1.05, 1), loc=2, borderaxespad=0.)"
   ]
  },
  {
   "cell_type": "code",
   "execution_count": 54,
   "id": "ee823386",
   "metadata": {},
   "outputs": [],
   "source": [
    "#Faça o mesmo para o mês:"
   ]
  },
  {
   "cell_type": "code",
   "execution_count": 56,
   "id": "56c42194",
   "metadata": {},
   "outputs": [
    {
     "data": {
      "text/plain": [
       "<matplotlib.legend.Legend at 0x18c08680d60>"
      ]
     },
     "execution_count": 56,
     "metadata": {},
     "output_type": "execute_result"
    },
    {
     "data": {
      "image/png": "[encoded data removed]",
      "text/plain": [
       "<Figure size 432x288 with 1 Axes>"
      ]
     },
     "metadata": {
      "needs_background": "light"
     },
     "output_type": "display_data"
    }
   ],
   "source": [
    "sns.countplot(x='Month', data=df, hue='Reason')\n",
    "plt.legend(bbox_to_anchor=(1.05, 1), loc=2, borderaxespad=0.)"
   ]
  },
  {
   "cell_type": "code",
   "execution_count": 57,
   "id": "ce1c4535",
   "metadata": {},
   "outputs": [],
   "source": [
    "#Agora crie um objeto groupby chamado \"byMonth\", onde você agrupa p DataFrame pela coluna do mes e use o metodo count()\n",
    "#para agregação.Use o método head() neste Dataframe retornando."
   ]
  },
  {
   "cell_type": "code",
   "execution_count": 61,
   "id": "a2d977bd",
   "metadata": {},
   "outputs": [],
   "source": [
    "byMonth = df.groupby('Month').count()"
   ]
  },
  {
   "cell_type": "code",
   "execution_count": 62,
   "id": "984d6910",
   "metadata": {},
   "outputs": [
    {
     "data": {
      "text/html": [
       "<div>\n",
       "<style scoped>\n",
       "    .dataframe tbody tr th:only-of-type {\n",
       "        vertical-align: middle;\n",
       "    }\n",
       "\n",
       "    .dataframe tbody tr th {\n",
       "        vertical-align: top;\n",
       "    }\n",
       "\n",
       "    .dataframe thead th {\n",
       "        text-align: right;\n",
       "    }\n",
       "</style>\n",
       "<table border=\"1\" class=\"dataframe\">\n",
       "  <thead>\n",
       "    <tr style=\"text-align: right;\">\n",
       "      <th></th>\n",
       "      <th>lat</th>\n",
       "      <th>lng</th>\n",
       "      <th>desc</th>\n",
       "      <th>zip</th>\n",
       "      <th>title</th>\n",
       "      <th>timeStamp</th>\n",
       "      <th>twp</th>\n",
       "      <th>addr</th>\n",
       "      <th>e</th>\n",
       "      <th>Reason</th>\n",
       "      <th>Hour</th>\n",
       "      <th>Day of Week</th>\n",
       "    </tr>\n",
       "    <tr>\n",
       "      <th>Month</th>\n",
       "      <th></th>\n",
       "      <th></th>\n",
       "      <th></th>\n",
       "      <th></th>\n",
       "      <th></th>\n",
       "      <th></th>\n",
       "      <th></th>\n",
       "      <th></th>\n",
       "      <th></th>\n",
       "      <th></th>\n",
       "      <th></th>\n",
       "      <th></th>\n",
       "    </tr>\n",
       "  </thead>\n",
       "  <tbody>\n",
       "    <tr>\n",
       "      <th>1</th>\n",
       "      <td>37824</td>\n",
       "      <td>37824</td>\n",
       "      <td>37824</td>\n",
       "      <td>33480</td>\n",
       "      <td>37824</td>\n",
       "      <td>37824</td>\n",
       "      <td>37812</td>\n",
       "      <td>37824</td>\n",
       "      <td>37824</td>\n",
       "      <td>37824</td>\n",
       "      <td>37824</td>\n",
       "      <td>37824</td>\n",
       "    </tr>\n",
       "    <tr>\n",
       "      <th>2</th>\n",
       "      <td>32828</td>\n",
       "      <td>32828</td>\n",
       "      <td>32828</td>\n",
       "      <td>28963</td>\n",
       "      <td>32828</td>\n",
       "      <td>32828</td>\n",
       "      <td>32817</td>\n",
       "      <td>32828</td>\n",
       "      <td>32828</td>\n",
       "      <td>32828</td>\n",
       "      <td>32828</td>\n",
       "      <td>32828</td>\n",
       "    </tr>\n",
       "    <tr>\n",
       "      <th>3</th>\n",
       "      <td>37666</td>\n",
       "      <td>37666</td>\n",
       "      <td>37666</td>\n",
       "      <td>33416</td>\n",
       "      <td>37666</td>\n",
       "      <td>37666</td>\n",
       "      <td>37651</td>\n",
       "      <td>37666</td>\n",
       "      <td>37666</td>\n",
       "      <td>37666</td>\n",
       "      <td>37666</td>\n",
       "      <td>37666</td>\n",
       "    </tr>\n",
       "    <tr>\n",
       "      <th>4</th>\n",
       "      <td>33583</td>\n",
       "      <td>33583</td>\n",
       "      <td>33583</td>\n",
       "      <td>29488</td>\n",
       "      <td>33583</td>\n",
       "      <td>33583</td>\n",
       "      <td>33575</td>\n",
       "      <td>33583</td>\n",
       "      <td>33583</td>\n",
       "      <td>33583</td>\n",
       "      <td>33583</td>\n",
       "      <td>33583</td>\n",
       "    </tr>\n",
       "    <tr>\n",
       "      <th>5</th>\n",
       "      <td>35644</td>\n",
       "      <td>35644</td>\n",
       "      <td>35644</td>\n",
       "      <td>31114</td>\n",
       "      <td>35644</td>\n",
       "      <td>35644</td>\n",
       "      <td>35628</td>\n",
       "      <td>35644</td>\n",
       "      <td>35644</td>\n",
       "      <td>35644</td>\n",
       "      <td>35644</td>\n",
       "      <td>35644</td>\n",
       "    </tr>\n",
       "  </tbody>\n",
       "</table>\n",
       "</div>"
      ],
      "text/plain": [
       "         lat    lng   desc    zip  title  timeStamp    twp   addr      e  \\\n",
       "Month                                                                      \n",
       "1      37824  37824  37824  33480  37824      37824  37812  37824  37824   \n",
       "2      32828  32828  32828  28963  32828      32828  32817  32828  32828   \n",
       "3      37666  37666  37666  33416  37666      37666  37651  37666  37666   \n",
       "4      33583  33583  33583  29488  33583      33583  33575  33583  33583   \n",
       "5      35644  35644  35644  31114  35644      35644  35628  35644  35644   \n",
       "\n",
       "       Reason   Hour  Day of Week  \n",
       "Month                              \n",
       "1       37824  37824        37824  \n",
       "2       32828  32828        32828  \n",
       "3       37666  37666        37666  \n",
       "4       33583  33583        33583  \n",
       "5       35644  35644        35644  "
      ]
     },
     "execution_count": 62,
     "metadata": {},
     "output_type": "execute_result"
    }
   ],
   "source": [
    "byMonth.head()"
   ]
  },
  {
   "cell_type": "code",
   "execution_count": 63,
   "id": "edf7ffa1",
   "metadata": {},
   "outputs": [],
   "source": [
    "#Agora crie um plot simples fora do DataFrame indicando a contagem de chamadas por mês."
   ]
  },
  {
   "cell_type": "code",
   "execution_count": 65,
   "id": "0bb5bbf6",
   "metadata": {},
   "outputs": [
    {
     "data": {
      "text/plain": [
       "<AxesSubplot:xlabel='Month'>"
      ]
     },
     "execution_count": 65,
     "metadata": {},
     "output_type": "execute_result"
    },
    {
     "data": {
      "image/png": "[encoded data removed]",
      "text/plain": [
       "<Figure size 432x288 with 1 Axes>"
      ]
     },
     "metadata": {
      "needs_background": "light"
     },
     "output_type": "display_data"
    }
   ],
   "source": [
    "byMonth['twp'].plot()"
   ]
  },
  {
   "cell_type": "code",
   "execution_count": 66,
   "id": "0f915e14",
   "metadata": {},
   "outputs": [],
   "source": [
    "#Agora veja se você pode usar o iplot() di Seaborn para criar um modelo linear no número de chamadas por mês\n",
    "#Tenha em mente que talvez seja necessário resetar o indice de uma coluna."
   ]
  },
  {
   "cell_type": "code",
   "execution_count": 67,
   "id": "08c4fbdf",
   "metadata": {},
   "outputs": [
    {
     "data": {
      "text/html": [
       "<div>\n",
       "<style scoped>\n",
       "    .dataframe tbody tr th:only-of-type {\n",
       "        vertical-align: middle;\n",
       "    }\n",
       "\n",
       "    .dataframe tbody tr th {\n",
       "        vertical-align: top;\n",
       "    }\n",
       "\n",
       "    .dataframe thead th {\n",
       "        text-align: right;\n",
       "    }\n",
       "</style>\n",
       "<table border=\"1\" class=\"dataframe\">\n",
       "  <thead>\n",
       "    <tr style=\"text-align: right;\">\n",
       "      <th></th>\n",
       "      <th>Month</th>\n",
       "      <th>lat</th>\n",
       "      <th>lng</th>\n",
       "      <th>desc</th>\n",
       "      <th>zip</th>\n",
       "      <th>title</th>\n",
       "      <th>timeStamp</th>\n",
       "      <th>twp</th>\n",
       "      <th>addr</th>\n",
       "      <th>e</th>\n",
       "      <th>Reason</th>\n",
       "      <th>Hour</th>\n",
       "      <th>Day of Week</th>\n",
       "    </tr>\n",
       "  </thead>\n",
       "  <tbody>\n",
       "    <tr>\n",
       "      <th>0</th>\n",
       "      <td>1</td>\n",
       "      <td>37824</td>\n",
       "      <td>37824</td>\n",
       "      <td>37824</td>\n",
       "      <td>33480</td>\n",
       "      <td>37824</td>\n",
       "      <td>37824</td>\n",
       "      <td>37812</td>\n",
       "      <td>37824</td>\n",
       "      <td>37824</td>\n",
       "      <td>37824</td>\n",
       "      <td>37824</td>\n",
       "      <td>37824</td>\n",
       "    </tr>\n",
       "    <tr>\n",
       "      <th>1</th>\n",
       "      <td>2</td>\n",
       "      <td>32828</td>\n",
       "      <td>32828</td>\n",
       "      <td>32828</td>\n",
       "      <td>28963</td>\n",
       "      <td>32828</td>\n",
       "      <td>32828</td>\n",
       "      <td>32817</td>\n",
       "      <td>32828</td>\n",
       "      <td>32828</td>\n",
       "      <td>32828</td>\n",
       "      <td>32828</td>\n",
       "      <td>32828</td>\n",
       "    </tr>\n",
       "    <tr>\n",
       "      <th>2</th>\n",
       "      <td>3</td>\n",
       "      <td>37666</td>\n",
       "      <td>37666</td>\n",
       "      <td>37666</td>\n",
       "      <td>33416</td>\n",
       "      <td>37666</td>\n",
       "      <td>37666</td>\n",
       "      <td>37651</td>\n",
       "      <td>37666</td>\n",
       "      <td>37666</td>\n",
       "      <td>37666</td>\n",
       "      <td>37666</td>\n",
       "      <td>37666</td>\n",
       "    </tr>\n",
       "    <tr>\n",
       "      <th>3</th>\n",
       "      <td>4</td>\n",
       "      <td>33583</td>\n",
       "      <td>33583</td>\n",
       "      <td>33583</td>\n",
       "      <td>29488</td>\n",
       "      <td>33583</td>\n",
       "      <td>33583</td>\n",
       "      <td>33575</td>\n",
       "      <td>33583</td>\n",
       "      <td>33583</td>\n",
       "      <td>33583</td>\n",
       "      <td>33583</td>\n",
       "      <td>33583</td>\n",
       "    </tr>\n",
       "    <tr>\n",
       "      <th>4</th>\n",
       "      <td>5</td>\n",
       "      <td>35644</td>\n",
       "      <td>35644</td>\n",
       "      <td>35644</td>\n",
       "      <td>31114</td>\n",
       "      <td>35644</td>\n",
       "      <td>35644</td>\n",
       "      <td>35628</td>\n",
       "      <td>35644</td>\n",
       "      <td>35644</td>\n",
       "      <td>35644</td>\n",
       "      <td>35644</td>\n",
       "      <td>35644</td>\n",
       "    </tr>\n",
       "    <tr>\n",
       "      <th>5</th>\n",
       "      <td>6</td>\n",
       "      <td>36171</td>\n",
       "      <td>36171</td>\n",
       "      <td>36171</td>\n",
       "      <td>31501</td>\n",
       "      <td>36171</td>\n",
       "      <td>36171</td>\n",
       "      <td>36152</td>\n",
       "      <td>36171</td>\n",
       "      <td>36171</td>\n",
       "      <td>36171</td>\n",
       "      <td>36171</td>\n",
       "      <td>36171</td>\n",
       "    </tr>\n",
       "    <tr>\n",
       "      <th>6</th>\n",
       "      <td>7</td>\n",
       "      <td>36405</td>\n",
       "      <td>36405</td>\n",
       "      <td>36405</td>\n",
       "      <td>31863</td>\n",
       "      <td>36405</td>\n",
       "      <td>36405</td>\n",
       "      <td>36391</td>\n",
       "      <td>36405</td>\n",
       "      <td>36405</td>\n",
       "      <td>36405</td>\n",
       "      <td>36405</td>\n",
       "      <td>36405</td>\n",
       "    </tr>\n",
       "    <tr>\n",
       "      <th>7</th>\n",
       "      <td>8</td>\n",
       "      <td>35972</td>\n",
       "      <td>35972</td>\n",
       "      <td>35972</td>\n",
       "      <td>31512</td>\n",
       "      <td>35972</td>\n",
       "      <td>35972</td>\n",
       "      <td>35957</td>\n",
       "      <td>35972</td>\n",
       "      <td>35972</td>\n",
       "      <td>35972</td>\n",
       "      <td>35972</td>\n",
       "      <td>35972</td>\n",
       "    </tr>\n",
       "    <tr>\n",
       "      <th>8</th>\n",
       "      <td>9</td>\n",
       "      <td>35339</td>\n",
       "      <td>35339</td>\n",
       "      <td>35339</td>\n",
       "      <td>30772</td>\n",
       "      <td>35339</td>\n",
       "      <td>35339</td>\n",
       "      <td>35325</td>\n",
       "      <td>35339</td>\n",
       "      <td>35339</td>\n",
       "      <td>35339</td>\n",
       "      <td>35339</td>\n",
       "      <td>35339</td>\n",
       "    </tr>\n",
       "    <tr>\n",
       "      <th>9</th>\n",
       "      <td>10</td>\n",
       "      <td>37815</td>\n",
       "      <td>37815</td>\n",
       "      <td>37815</td>\n",
       "      <td>32919</td>\n",
       "      <td>37815</td>\n",
       "      <td>37815</td>\n",
       "      <td>37809</td>\n",
       "      <td>37815</td>\n",
       "      <td>37815</td>\n",
       "      <td>37815</td>\n",
       "      <td>37815</td>\n",
       "      <td>37815</td>\n",
       "    </tr>\n",
       "    <tr>\n",
       "      <th>10</th>\n",
       "      <td>11</td>\n",
       "      <td>31643</td>\n",
       "      <td>31643</td>\n",
       "      <td>31643</td>\n",
       "      <td>27776</td>\n",
       "      <td>31643</td>\n",
       "      <td>31643</td>\n",
       "      <td>31628</td>\n",
       "      <td>31643</td>\n",
       "      <td>31643</td>\n",
       "      <td>31643</td>\n",
       "      <td>31643</td>\n",
       "      <td>31643</td>\n",
       "    </tr>\n",
       "    <tr>\n",
       "      <th>11</th>\n",
       "      <td>12</td>\n",
       "      <td>33019</td>\n",
       "      <td>33019</td>\n",
       "      <td>33019</td>\n",
       "      <td>28976</td>\n",
       "      <td>33019</td>\n",
       "      <td>33019</td>\n",
       "      <td>33005</td>\n",
       "      <td>33019</td>\n",
       "      <td>33019</td>\n",
       "      <td>33019</td>\n",
       "      <td>33019</td>\n",
       "      <td>33019</td>\n",
       "    </tr>\n",
       "  </tbody>\n",
       "</table>\n",
       "</div>"
      ],
      "text/plain": [
       "    Month    lat    lng   desc    zip  title  timeStamp    twp   addr      e  \\\n",
       "0       1  37824  37824  37824  33480  37824      37824  37812  37824  37824   \n",
       "1       2  32828  32828  32828  28963  32828      32828  32817  32828  32828   \n",
       "2       3  37666  37666  37666  33416  37666      37666  37651  37666  37666   \n",
       "3       4  33583  33583  33583  29488  33583      33583  33575  33583  33583   \n",
       "4       5  35644  35644  35644  31114  35644      35644  35628  35644  35644   \n",
       "5       6  36171  36171  36171  31501  36171      36171  36152  36171  36171   \n",
       "6       7  36405  36405  36405  31863  36405      36405  36391  36405  36405   \n",
       "7       8  35972  35972  35972  31512  35972      35972  35957  35972  35972   \n",
       "8       9  35339  35339  35339  30772  35339      35339  35325  35339  35339   \n",
       "9      10  37815  37815  37815  32919  37815      37815  37809  37815  37815   \n",
       "10     11  31643  31643  31643  27776  31643      31643  31628  31643  31643   \n",
       "11     12  33019  33019  33019  28976  33019      33019  33005  33019  33019   \n",
       "\n",
       "    Reason   Hour  Day of Week  \n",
       "0    37824  37824        37824  \n",
       "1    32828  32828        32828  \n",
       "2    37666  37666        37666  \n",
       "3    33583  33583        33583  \n",
       "4    35644  35644        35644  \n",
       "5    36171  36171        36171  \n",
       "6    36405  36405        36405  \n",
       "7    35972  35972        35972  \n",
       "8    35339  35339        35339  \n",
       "9    37815  37815        37815  \n",
       "10   31643  31643        31643  \n",
       "11   33019  33019        33019  "
      ]
     },
     "execution_count": 67,
     "metadata": {},
     "output_type": "execute_result"
    }
   ],
   "source": [
    "#reseta o DataFrame e transforma o mês em coluna\n",
    "byMonth.reset_index()"
   ]
  },
  {
   "cell_type": "code",
   "execution_count": 68,
   "id": "2e633af4",
   "metadata": {},
   "outputs": [
    {
     "data": {
      "text/plain": [
       "<seaborn.axisgrid.FacetGrid at 0x18c0a82a1f0>"
      ]
     },
     "execution_count": 68,
     "metadata": {},
     "output_type": "execute_result"
    },
    {
     "data": {
      "image/png": "[encoded data removed]",
      "text/plain": [
       "<Figure size 360x360 with 1 Axes>"
      ]
     },
     "metadata": {
      "needs_background": "light"
     },
     "output_type": "display_data"
    }
   ],
   "source": [
    "sns.lmplot(x='Month', y='twp', data=byMonth.reset_index())"
   ]
  },
  {
   "cell_type": "code",
   "execution_count": 69,
   "id": "c5b94217",
   "metadata": {},
   "outputs": [],
   "source": [
    "#Crie uma nova coluna chamada \"Data\" que contenha a data da coluna timeStamp.Você precisará usar aplicar junto com o \n",
    "#método .date()"
   ]
  },
  {
   "cell_type": "code",
   "execution_count": 70,
   "id": "b7fc0a93",
   "metadata": {},
   "outputs": [],
   "source": [
    "df['Date'] = df['timeStamp'].apply(lambda x:x.date())"
   ]
  },
  {
   "cell_type": "code",
   "execution_count": 71,
   "id": "36e43ed5",
   "metadata": {},
   "outputs": [
    {
     "data": {
      "text/plain": [
       "0         2015-12-10\n",
       "1         2015-12-10\n",
       "2         2015-12-10\n",
       "3         2015-12-10\n",
       "4         2015-12-10\n",
       "             ...    \n",
       "423904    2018-11-16\n",
       "423905    2018-11-16\n",
       "423906    2018-11-16\n",
       "423907    2018-11-16\n",
       "423908    2018-11-16\n",
       "Name: Date, Length: 423909, dtype: object"
      ]
     },
     "execution_count": 71,
     "metadata": {},
     "output_type": "execute_result"
    }
   ],
   "source": [
    "df['Date']"
   ]
  },
  {
   "cell_type": "code",
   "execution_count": 72,
   "id": "3a20d626",
   "metadata": {},
   "outputs": [],
   "source": [
    "#Agora agrupe esta coluna Data com o groupby.Usando o count(), crie um gráfico de contagens de chamadas 911."
   ]
  },
  {
   "cell_type": "code",
   "execution_count": 74,
   "id": "9c6eb706",
   "metadata": {},
   "outputs": [
    {
     "data": {
      "text/plain": [
       "<AxesSubplot:xlabel='Date'>"
      ]
     },
     "execution_count": 74,
     "metadata": {},
     "output_type": "execute_result"
    },
    {
     "data": {
      "image/png": "[encoded data removed]",
      "text/plain": [
       "<Figure size 432x288 with 1 Axes>"
      ]
     },
     "metadata": {
      "needs_background": "light"
     },
     "output_type": "display_data"
    }
   ],
   "source": [
    "df.groupby('Date').count()['twp'].plot()"
   ]
  },
  {
   "cell_type": "code",
   "execution_count": 75,
   "id": "ddeb845f",
   "metadata": {},
   "outputs": [],
   "source": [
    "#Agora recrie esse plot, mas crie 3 plots separados com cada plot representando uma Razão para a chamada 911."
   ]
  },
  {
   "cell_type": "code",
   "execution_count": 76,
   "id": "1b76ee9b",
   "metadata": {},
   "outputs": [
    {
     "data": {
      "text/plain": [
       "<AxesSubplot:xlabel='Date'>"
      ]
     },
     "execution_count": 76,
     "metadata": {},
     "output_type": "execute_result"
    },
    {
     "data": {
      "image/png": "[encoded data removed]",
      "text/plain": [
       "<Figure size 432x288 with 1 Axes>"
      ]
     },
     "metadata": {
      "needs_background": "light"
     },
     "output_type": "display_data"
    }
   ],
   "source": [
    "df[df['Reason']=='Traffic'].groupby('Date').count()['twp'].plot()"
   ]
  },
  {
   "cell_type": "code",
   "execution_count": 77,
   "id": "4e6ad49e",
   "metadata": {},
   "outputs": [
    {
     "data": {
      "text/plain": [
       "<AxesSubplot:xlabel='Date'>"
      ]
     },
     "execution_count": 77,
     "metadata": {},
     "output_type": "execute_result"
    },
    {
     "data": {
      "image/png": "[encoded data removed]",
      "text/plain": [
       "<Figure size 432x288 with 1 Axes>"
      ]
     },
     "metadata": {
      "needs_background": "light"
     },
     "output_type": "display_data"
    }
   ],
   "source": [
    "df[df['Reason']=='Fire'].groupby('Date').count()['twp'].plot()"
   ]
  },
  {
   "cell_type": "code",
   "execution_count": 78,
   "id": "5ba82bb4",
   "metadata": {},
   "outputs": [
    {
     "data": {
      "text/plain": [
       "<AxesSubplot:xlabel='Date'>"
      ]
     },
     "execution_count": 78,
     "metadata": {},
     "output_type": "execute_result"
    },
    {
     "data": {
      "image/png": "[encoded data removed]",
      "text/plain": [
       "<Figure size 432x288 with 1 Axes>"
      ]
     },
     "metadata": {
      "needs_background": "light"
     },
     "output_type": "display_data"
    }
   ],
   "source": [
    "df[df['Reason']=='EMS'].groupby('Date').count()['twp'].plot()"
   ]
  },
  {
   "cell_type": "code",
   "execution_count": 79,
   "id": "dd7af783",
   "metadata": {},
   "outputs": [],
   "source": [
    "#Agora vamos continuar a criar mapas de calor com seaborn e nossos dados.Em primeiro lugar,devemos reestruturar o quadro de \n",
    "#dados para que as colunas se tornem oras e o índice se torne Dia da Semana.há muitas maneiras de fazer isso, mas eu \n",
    "#recomendaria combinar o groupby com o método unstack. Consulte as soluções se você ficar preso nisso."
   ]
  },
  {
   "cell_type": "code",
   "execution_count": 84,
   "id": "46e26a79",
   "metadata": {},
   "outputs": [],
   "source": [
    "dayHour = df.groupby(by=['Day of Week', 'Hour']).count()['twp'].unstack()"
   ]
  },
  {
   "cell_type": "code",
   "execution_count": 85,
   "id": "116a3bf5",
   "metadata": {},
   "outputs": [
    {
     "data": {
      "text/html": [
       "<div>\n",
       "<style scoped>\n",
       "    .dataframe tbody tr th:only-of-type {\n",
       "        vertical-align: middle;\n",
       "    }\n",
       "\n",
       "    .dataframe tbody tr th {\n",
       "        vertical-align: top;\n",
       "    }\n",
       "\n",
       "    .dataframe thead th {\n",
       "        text-align: right;\n",
       "    }\n",
       "</style>\n",
       "<table border=\"1\" class=\"dataframe\">\n",
       "  <thead>\n",
       "    <tr style=\"text-align: right;\">\n",
       "      <th>Hour</th>\n",
       "      <th>0</th>\n",
       "      <th>1</th>\n",
       "      <th>2</th>\n",
       "      <th>3</th>\n",
       "      <th>4</th>\n",
       "      <th>5</th>\n",
       "      <th>6</th>\n",
       "      <th>7</th>\n",
       "      <th>8</th>\n",
       "      <th>9</th>\n",
       "      <th>...</th>\n",
       "      <th>14</th>\n",
       "      <th>15</th>\n",
       "      <th>16</th>\n",
       "      <th>17</th>\n",
       "      <th>18</th>\n",
       "      <th>19</th>\n",
       "      <th>20</th>\n",
       "      <th>21</th>\n",
       "      <th>22</th>\n",
       "      <th>23</th>\n",
       "    </tr>\n",
       "    <tr>\n",
       "      <th>Day of Week</th>\n",
       "      <th></th>\n",
       "      <th></th>\n",
       "      <th></th>\n",
       "      <th></th>\n",
       "      <th></th>\n",
       "      <th></th>\n",
       "      <th></th>\n",
       "      <th></th>\n",
       "      <th></th>\n",
       "      <th></th>\n",
       "      <th></th>\n",
       "      <th></th>\n",
       "      <th></th>\n",
       "      <th></th>\n",
       "      <th></th>\n",
       "      <th></th>\n",
       "      <th></th>\n",
       "      <th></th>\n",
       "      <th></th>\n",
       "      <th></th>\n",
       "      <th></th>\n",
       "    </tr>\n",
       "  </thead>\n",
       "  <tbody>\n",
       "    <tr>\n",
       "      <th>Fri</th>\n",
       "      <td>1184</td>\n",
       "      <td>998</td>\n",
       "      <td>930</td>\n",
       "      <td>832</td>\n",
       "      <td>820</td>\n",
       "      <td>1050</td>\n",
       "      <td>1671</td>\n",
       "      <td>2688</td>\n",
       "      <td>3185</td>\n",
       "      <td>3295</td>\n",
       "      <td>...</td>\n",
       "      <td>4148</td>\n",
       "      <td>4512</td>\n",
       "      <td>4711</td>\n",
       "      <td>4488</td>\n",
       "      <td>3615</td>\n",
       "      <td>3254</td>\n",
       "      <td>2787</td>\n",
       "      <td>2445</td>\n",
       "      <td>2209</td>\n",
       "      <td>1861</td>\n",
       "    </tr>\n",
       "    <tr>\n",
       "      <th>Sat</th>\n",
       "      <td>1513</td>\n",
       "      <td>1332</td>\n",
       "      <td>1205</td>\n",
       "      <td>1009</td>\n",
       "      <td>935</td>\n",
       "      <td>984</td>\n",
       "      <td>1230</td>\n",
       "      <td>1640</td>\n",
       "      <td>2211</td>\n",
       "      <td>2766</td>\n",
       "      <td>...</td>\n",
       "      <td>3479</td>\n",
       "      <td>3284</td>\n",
       "      <td>3347</td>\n",
       "      <td>3272</td>\n",
       "      <td>3174</td>\n",
       "      <td>3033</td>\n",
       "      <td>2631</td>\n",
       "      <td>2430</td>\n",
       "      <td>2071</td>\n",
       "      <td>1911</td>\n",
       "    </tr>\n",
       "    <tr>\n",
       "      <th>Sun</th>\n",
       "      <td>1519</td>\n",
       "      <td>1330</td>\n",
       "      <td>1257</td>\n",
       "      <td>1033</td>\n",
       "      <td>951</td>\n",
       "      <td>940</td>\n",
       "      <td>1119</td>\n",
       "      <td>1566</td>\n",
       "      <td>1933</td>\n",
       "      <td>2421</td>\n",
       "      <td>...</td>\n",
       "      <td>2992</td>\n",
       "      <td>2828</td>\n",
       "      <td>2854</td>\n",
       "      <td>2872</td>\n",
       "      <td>2829</td>\n",
       "      <td>2677</td>\n",
       "      <td>2361</td>\n",
       "      <td>1994</td>\n",
       "      <td>1632</td>\n",
       "      <td>1468</td>\n",
       "    </tr>\n",
       "    <tr>\n",
       "      <th>Tue</th>\n",
       "      <td>1086</td>\n",
       "      <td>916</td>\n",
       "      <td>812</td>\n",
       "      <td>782</td>\n",
       "      <td>823</td>\n",
       "      <td>1075</td>\n",
       "      <td>1806</td>\n",
       "      <td>2912</td>\n",
       "      <td>3649</td>\n",
       "      <td>3560</td>\n",
       "      <td>...</td>\n",
       "      <td>3829</td>\n",
       "      <td>4087</td>\n",
       "      <td>4265</td>\n",
       "      <td>4393</td>\n",
       "      <td>3751</td>\n",
       "      <td>2959</td>\n",
       "      <td>2533</td>\n",
       "      <td>2146</td>\n",
       "      <td>1705</td>\n",
       "      <td>1349</td>\n",
       "    </tr>\n",
       "    <tr>\n",
       "      <th>Wed</th>\n",
       "      <td>1021</td>\n",
       "      <td>951</td>\n",
       "      <td>807</td>\n",
       "      <td>793</td>\n",
       "      <td>711</td>\n",
       "      <td>1040</td>\n",
       "      <td>1762</td>\n",
       "      <td>3059</td>\n",
       "      <td>3565</td>\n",
       "      <td>3528</td>\n",
       "      <td>...</td>\n",
       "      <td>3932</td>\n",
       "      <td>4149</td>\n",
       "      <td>4441</td>\n",
       "      <td>4486</td>\n",
       "      <td>3609</td>\n",
       "      <td>2927</td>\n",
       "      <td>2643</td>\n",
       "      <td>2232</td>\n",
       "      <td>1793</td>\n",
       "      <td>1396</td>\n",
       "    </tr>\n",
       "    <tr>\n",
       "      <th>mon</th>\n",
       "      <td>1207</td>\n",
       "      <td>971</td>\n",
       "      <td>857</td>\n",
       "      <td>784</td>\n",
       "      <td>871</td>\n",
       "      <td>1124</td>\n",
       "      <td>1729</td>\n",
       "      <td>2828</td>\n",
       "      <td>3586</td>\n",
       "      <td>3684</td>\n",
       "      <td>...</td>\n",
       "      <td>3547</td>\n",
       "      <td>3975</td>\n",
       "      <td>4061</td>\n",
       "      <td>4002</td>\n",
       "      <td>3511</td>\n",
       "      <td>2821</td>\n",
       "      <td>2418</td>\n",
       "      <td>2004</td>\n",
       "      <td>1698</td>\n",
       "      <td>1282</td>\n",
       "    </tr>\n",
       "    <tr>\n",
       "      <th>thu</th>\n",
       "      <td>1115</td>\n",
       "      <td>873</td>\n",
       "      <td>918</td>\n",
       "      <td>773</td>\n",
       "      <td>783</td>\n",
       "      <td>1091</td>\n",
       "      <td>1799</td>\n",
       "      <td>2912</td>\n",
       "      <td>3468</td>\n",
       "      <td>3457</td>\n",
       "      <td>...</td>\n",
       "      <td>3903</td>\n",
       "      <td>4139</td>\n",
       "      <td>4053</td>\n",
       "      <td>4410</td>\n",
       "      <td>3578</td>\n",
       "      <td>2921</td>\n",
       "      <td>2577</td>\n",
       "      <td>2230</td>\n",
       "      <td>1784</td>\n",
       "      <td>1484</td>\n",
       "    </tr>\n",
       "  </tbody>\n",
       "</table>\n",
       "<p>7 rows × 24 columns</p>\n",
       "</div>"
      ],
      "text/plain": [
       "Hour           0     1     2     3    4     5     6     7     8     9   ...  \\\n",
       "Day of Week                                                             ...   \n",
       "Fri          1184   998   930   832  820  1050  1671  2688  3185  3295  ...   \n",
       "Sat          1513  1332  1205  1009  935   984  1230  1640  2211  2766  ...   \n",
       "Sun          1519  1330  1257  1033  951   940  1119  1566  1933  2421  ...   \n",
       "Tue          1086   916   812   782  823  1075  1806  2912  3649  3560  ...   \n",
       "Wed          1021   951   807   793  711  1040  1762  3059  3565  3528  ...   \n",
       "mon          1207   971   857   784  871  1124  1729  2828  3586  3684  ...   \n",
       "thu          1115   873   918   773  783  1091  1799  2912  3468  3457  ...   \n",
       "\n",
       "Hour           14    15    16    17    18    19    20    21    22    23  \n",
       "Day of Week                                                              \n",
       "Fri          4148  4512  4711  4488  3615  3254  2787  2445  2209  1861  \n",
       "Sat          3479  3284  3347  3272  3174  3033  2631  2430  2071  1911  \n",
       "Sun          2992  2828  2854  2872  2829  2677  2361  1994  1632  1468  \n",
       "Tue          3829  4087  4265  4393  3751  2959  2533  2146  1705  1349  \n",
       "Wed          3932  4149  4441  4486  3609  2927  2643  2232  1793  1396  \n",
       "mon          3547  3975  4061  4002  3511  2821  2418  2004  1698  1282  \n",
       "thu          3903  4139  4053  4410  3578  2921  2577  2230  1784  1484  \n",
       "\n",
       "[7 rows x 24 columns]"
      ]
     },
     "execution_count": 85,
     "metadata": {},
     "output_type": "execute_result"
    }
   ],
   "source": [
    "dayHour"
   ]
  },
  {
   "cell_type": "code",
   "execution_count": 86,
   "id": "00cce438",
   "metadata": {},
   "outputs": [],
   "source": [
    "#Agora crie um HeatMap usando esse novo DataFrame"
   ]
  },
  {
   "cell_type": "code",
   "execution_count": 91,
   "id": "fd33518c",
   "metadata": {},
   "outputs": [
    {
     "data": {
      "text/plain": [
       "<AxesSubplot:xlabel='Hour', ylabel='Day of Week'>"
      ]
     },
     "execution_count": 91,
     "metadata": {},
     "output_type": "execute_result"
    },
    {
     "data": {
      "image/png": "[encoded data removed]",
      "text/plain": [
       "<Figure size 864x432 with 2 Axes>"
      ]
     },
     "metadata": {
      "needs_background": "light"
     },
     "output_type": "display_data"
    }
   ],
   "source": [
    "plt.figure(figsize=(12, 6))\n",
    "sns.heatmap(dayHour)"
   ]
  },
  {
   "cell_type": "code",
   "execution_count": 92,
   "id": "14cffbd8",
   "metadata": {},
   "outputs": [],
   "source": [
    "#Agora crie um clustermap usando este DataFrame"
   ]
  },
  {
   "cell_type": "code",
   "execution_count": 94,
   "id": "09f307f4",
   "metadata": {},
   "outputs": [
    {
     "data": {
      "text/plain": [
       "<seaborn.matrix.ClusterGrid at 0x18c11caad60>"
      ]
     },
     "execution_count": 94,
     "metadata": {},
     "output_type": "execute_result"
    },
    {
     "data": {
      "image/png": "[encoded data removed]",
      "text/plain": [
       "<Figure size 720x720 with 4 Axes>"
      ]
     },
     "metadata": {
      "needs_background": "light"
     },
     "output_type": "display_data"
    }
   ],
   "source": [
    "sns.clustermap(dayHour)"
   ]
  },
  {
   "cell_type": "code",
   "execution_count": 95,
   "id": "d2bca24b",
   "metadata": {},
   "outputs": [],
   "source": [
    "#Agora repita estes mesmos plots e operaçãoes usando um DataFrame que mostra o mês como coluna"
   ]
  },
  {
   "cell_type": "code",
   "execution_count": 97,
   "id": "4fd6cffa",
   "metadata": {},
   "outputs": [],
   "source": [
    "dayHour = df.groupby(by=['Day of Week', 'Month']).count()['twp'].unstack()"
   ]
  },
  {
   "cell_type": "code",
   "execution_count": 98,
   "id": "f18f2505",
   "metadata": {},
   "outputs": [
    {
     "data": {
      "text/plain": [
       "<AxesSubplot:xlabel='Month', ylabel='Day of Week'>"
      ]
     },
     "execution_count": 98,
     "metadata": {},
     "output_type": "execute_result"
    },
    {
     "data": {
      "image/png": "[encoded data removed]",
      "text/plain": [
       "<Figure size 864x432 with 2 Axes>"
      ]
     },
     "metadata": {
      "needs_background": "light"
     },
     "output_type": "display_data"
    }
   ],
   "source": [
    "plt.figure(figsize=(12, 6))\n",
    "sns.heatmap(dayHour)"
   ]
  },
  {
   "cell_type": "code",
   "execution_count": 99,
   "id": "4a077cdd",
   "metadata": {},
   "outputs": [
    {
     "data": {
      "text/plain": [
       "<seaborn.matrix.ClusterGrid at 0x18c11e5af70>"
      ]
     },
     "execution_count": 99,
     "metadata": {},
     "output_type": "execute_result"
    },
    {
     "data": {
      "image/png": "[encoded data removed]",
      "text/plain": [
       "<Figure size 720x720 with 4 Axes>"
      ]
     },
     "metadata": {
      "needs_background": "light"
     },
     "output_type": "display_data"
    }
   ],
   "source": [
    "sns.clustermap(dayHour)"
   ]
  },
  {
   "cell_type": "code",
   "execution_count": null,
   "id": "54ef0ba6",
   "metadata": {},
   "outputs": [],
   "source": []
  }
 ],
 "metadata": {
  "kernelspec": {
   "display_name": "Python 3",
   "language": "python",
   "name": "python3"
  },
  "language_info": {
   "codemirror_mode": {
    "name": "ipython",
    "version": 3
   },
   "file_extension": ".py",
   "mimetype": "text/x-python",
   "name": "python",
   "nbconvert_exporter": "python",
   "pygments_lexer": "ipython3",
   "version": "3.8.8"
  }
 },
 "nbformat": 4,
 "nbformat_minor": 5
}
